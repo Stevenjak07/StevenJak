{
 "cells": [
  {
   "cell_type": "code",
   "execution_count": null,
   "id": "39368402",
   "metadata": {},
   "outputs": [],
   "source": [
    "student_list = []\n",
    "## Append for add (+)\n",
    "def add_student(first_name , last_name , gender , year):\n",
    "    return student_list.append([first_name , last_name , gender , year])\n",
    "add_student(\"lala1\" , \"lala1\" , \"lala3\" , \"lala4\")\n",
    "add_student(\"lala11\" , \"lala11\" , \"lala31\" , \"lala41\")\n",
    "\n",
    "\n",
    "def modify_student(row , col , new_value):\n",
    "    student_list[row][col] = new_value\n",
    "    return student_list[row]\n",
    "\n",
    "\n",
    "print(*student_list)\n",
    "print(modify_student(0,0,\"1\"))"
   ]
  }
 ],
 "metadata": {
  "kernelspec": {
   "display_name": "Python 3 (ipykernel)",
   "language": "python",
   "name": "python3"
  },
  "language_info": {
   "codemirror_mode": {
    "name": "ipython",
    "version": 3
   },
   "file_extension": ".py",
   "mimetype": "text/x-python",
   "name": "python",
   "nbconvert_exporter": "python",
   "pygments_lexer": "ipython3",
   "version": "3.10.9"
  }
 },
 "nbformat": 4,
 "nbformat_minor": 5
}
